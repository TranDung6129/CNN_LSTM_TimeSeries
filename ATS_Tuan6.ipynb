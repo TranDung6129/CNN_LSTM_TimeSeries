{
 "cells": [
  {
   "cell_type": "code",
   "execution_count": 44,
   "metadata": {
    "id": "sX82dgiR77qy"
   },
   "outputs": [],
   "source": [
    "\n",
    "from statsmodels.tsa.arima_process import ArmaProcess\n",
    "import numpy as np\n",
    "\n"
   ]
  },
  {
   "cell_type": "code",
   "execution_count": 45,
   "metadata": {
    "id": "IPyQxR6nCwck"
   },
   "outputs": [],
   "source": [
    "ar = np.array([0.5, 0.6])\n",
    "ma = np.array([1, 0.5])\n",
    "ARMA_vd1=ArmaProcess.from_coeffs(ar, ma)"
   ]
  },
  {
   "cell_type": "markdown",
   "metadata": {
    "id": "wlNg-wDaA-Qy"
   },
   "source": [
    "Phân tích mô hình ARMA(2,2) như sau "
   ]
  },
  {
   "cell_type": "code",
   "execution_count": 46,
   "metadata": {
    "colab": {
     "base_uri": "https://localhost:8080/"
    },
    "id": "JgMBseLcDc4I",
    "outputId": "dc523b2b-72da-4b99-cc05-7637a2d97ecb"
   },
   "outputs": [
    {
     "name": "stdout",
     "output_type": "stream",
     "text": [
      "Tính khả nghịch: True\n",
      "Tính dừng của chuỗi thời gian: False\n",
      "Đa thức phần MA: 1.0 + 1.0·x¹ + 0.5·x²\n",
      "Nghiệm của đa thức phần MA [-1.-1.j -1.+1.j]\n",
      "Đa thức phần AR: 1.0 - 0.5·x¹ - 0.6·x²\n",
      "Nghiệm của đa thức phần AR [-1.77323505  0.93990172]\n",
      " Chuyển ARMA thành MA [1.         1.5        1.85       1.825      2.0225     2.10625\n",
      " 2.266625   2.3970625  2.55850625 2.71749063]\n",
      " Chuyển ARMA thành AR [ 1.      -1.5      0.4      0.35    -0.55     0.375   -0.1     -0.0875\n",
      "  0.1375  -0.09375]\n"
     ]
    }
   ],
   "source": [
    "\n",
    "print('Tính khả nghịch:', ARMA_vd1.isinvertible)\n",
    "print('Tính dừng của chuỗi thời gian:', ARMA_vd1.isstationary)\n",
    "print('Đa thức phần MA:', ARMA_vd1.mapoly)\n",
    "print('Nghiệm của đa thức phần MA', ARMA_vd1.maroots)\n",
    "print('Đa thức phần AR:', ARMA_vd1.arpoly)\n",
    "print('Nghiệm của đa thức phần AR', ARMA_vd1.arroots)\n",
    "\n",
    "print( ' Chuyển ARMA thành MA', ARMA_vd1.arma2ma(10))\n",
    "\n",
    "print(' Chuyển ARMA thành AR', ARMA_vd1.arma2ar(10))"
   ]
  },
  {
   "cell_type": "code",
   "execution_count": 47,
   "metadata": {
    "id": "KeiR75zHDiPk"
   },
   "outputs": [
    {
     "name": "stdout",
     "output_type": "stream",
     "text": [
      "[1.57849119e+000 2.41292829e+000 5.16948344e+000 ... 1.99580154e+269\n",
      " 2.12341514e+269 2.25918850e+269]\n"
     ]
    }
   ],
   "source": [
    "ARMA_data = ARMA_vd1.generate_sample(nsample=10000)\n",
    "print(ARMA_data)"
   ]
  },
  {
   "cell_type": "markdown",
   "metadata": {
    "id": "T6-n3qkR_8wB"
   },
   "source": [
    "Bài tập:\n",
    "Nhập tham số $\\alpha=$ ngày sinh; $\\beta=$ tháng sinh.\n",
    "\n",
    "a) Hãy phân tích mô hình ARMA(1,1) với tham số $\n",
    "\\theta_1=\\alpha\\%; \\phi_1=\\beta\\%;$\n",
    "\n",
    "b) Hãy phân tích mô hình ARMA(2,2) với tham số $\n",
    "\\theta_1=\\alpha\\%; \\theta_2=\\beta\\%;  \\phi_1=\\beta\\%; \\phi_2=\\alpha\\%$\n"
   ]
  },
  {
   "cell_type": "code",
   "execution_count": null,
   "metadata": {},
   "outputs": [],
   "source": []
  }
 ],
 "metadata": {
  "colab": {
   "provenance": []
  },
  "kernelspec": {
   "display_name": "Python 3 (ipykernel)",
   "language": "python",
   "name": "python3"
  },
  "language_info": {
   "codemirror_mode": {
    "name": "ipython",
    "version": 3
   },
   "file_extension": ".py",
   "mimetype": "text/x-python",
   "name": "python",
   "nbconvert_exporter": "python",
   "pygments_lexer": "ipython3",
   "version": "3.9.13"
  }
 },
 "nbformat": 4,
 "nbformat_minor": 1
}
