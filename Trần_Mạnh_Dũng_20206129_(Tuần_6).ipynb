{
  "cells": [
    {
      "cell_type": "code",
      "execution_count": 1,
      "metadata": {
        "id": "sX82dgiR77qy"
      },
      "outputs": [],
      "source": [
        "from statsmodels.tsa.arima_process import ArmaProcess\n",
        "import numpy as np"
      ]
    },
    {
      "cell_type": "code",
      "execution_count": 2,
      "metadata": {
        "id": "IPyQxR6nCwck"
      },
      "outputs": [],
      "source": [
        "ar = np.array([0.5, 0.6])\n",
        "ma = np.array([1, 0.5])\n",
        "ARMA_vd1=ArmaProcess.from_coeffs(ar, ma)"
      ]
    },
    {
      "cell_type": "markdown",
      "metadata": {
        "id": "wlNg-wDaA-Qy"
      },
      "source": [
        "Phân tích mô hình ARMA(2,2) như sau"
      ]
    },
    {
      "cell_type": "code",
      "execution_count": 3,
      "metadata": {
        "colab": {
          "base_uri": "https://localhost:8080/"
        },
        "id": "JgMBseLcDc4I",
        "outputId": "fae17ef5-7e86-4a39-9111-91ec860dc773"
      },
      "outputs": [
        {
          "output_type": "stream",
          "name": "stdout",
          "text": [
            "Tính khả nghịch: True\n",
            "Tính dừng của chuỗi thời gian: False\n",
            "Đa thức phần MA: 1.0 + 1.0·x¹ + 0.5·x²\n",
            "Nghiệm của đa thức phần MA [-1.-1.j -1.+1.j]\n",
            "Đa thức phần AR: 1.0 - 0.5·x¹ - 0.6·x²\n",
            "Nghiệm của đa thức phần AR [-1.77323505  0.93990172]\n",
            " Chuyển ARMA thành MA [1.         1.5        1.85       1.825      2.0225     2.10625\n",
            " 2.266625   2.3970625  2.55850625 2.71749063]\n",
            " Chuyển ARMA thành AR [ 1.      -1.5      0.4      0.35    -0.55     0.375   -0.1     -0.0875\n",
            "  0.1375  -0.09375]\n"
          ]
        }
      ],
      "source": [
        "\n",
        "print('Tính khả nghịch:', ARMA_vd1.isinvertible)\n",
        "print('Tính dừng của chuỗi thời gian:', ARMA_vd1.isstationary)\n",
        "print('Đa thức phần MA:', ARMA_vd1.mapoly)\n",
        "print('Nghiệm của đa thức phần MA', ARMA_vd1.maroots)\n",
        "print('Đa thức phần AR:', ARMA_vd1.arpoly)\n",
        "print('Nghiệm của đa thức phần AR', ARMA_vd1.arroots)\n",
        "print( ' Chuyển ARMA thành MA', ARMA_vd1.arma2ma(10))\n",
        "print(' Chuyển ARMA thành AR', ARMA_vd1.arma2ar(10))"
      ]
    },
    {
      "cell_type": "code",
      "execution_count": 4,
      "metadata": {
        "id": "KeiR75zHDiPk",
        "colab": {
          "base_uri": "https://localhost:8080/"
        },
        "outputId": "a9010a9d-fdf4-4d3d-b2bd-bb4c4b09f612"
      },
      "outputs": [
        {
          "output_type": "stream",
          "name": "stdout",
          "text": [
            "[-8.01813309e-001 -2.41706793e+000 -4.77938578e+000 ... -5.70193144e+269\n",
            " -6.06651880e+269 -6.45441826e+269]\n"
          ]
        }
      ],
      "source": [
        "ARMA_data = ARMA_vd1.generate_sample(nsample=10000)\n",
        "print(ARMA_data)"
      ]
    },
    {
      "cell_type": "markdown",
      "metadata": {
        "id": "T6-n3qkR_8wB"
      },
      "source": [
        "Bài tập:\n",
        "Nhập tham số $\\alpha=$ ngày sinh; $\\beta=$ tháng sinh.\n",
        "\n",
        "a) Hãy phân tích mô hình ARMA(1,1) với tham số $\n",
        "\\theta_1=\\alpha\\%; \\phi_1=\\beta\\%;$\n",
        "\n",
        "b) Hãy phân tích mô hình ARMA(2,2) với tham số $\n",
        "\\theta_1=\\alpha\\%; \\theta_2=\\beta\\%;  \\phi_1=\\beta\\%; \\phi_2=\\alpha\\%$\n"
      ]
    },
    {
      "cell_type": "code",
      "execution_count": 7,
      "metadata": {
        "colab": {
          "base_uri": "https://localhost:8080/"
        },
        "id": "h_t2yKzK2VMn",
        "outputId": "60f639f4-6323-44b3-b8e4-13dc9a738da9"
      },
      "outputs": [
        {
          "output_type": "stream",
          "name": "stdout",
          "text": [
            "Tính khả nghịch: True\n",
            "Tính dừng của chuỗi thời gian: True\n",
            "Đa thức phần MA: 1.0 + 0.07·x¹\n",
            "Nghiệm của đa thức phần MA [-14.28571429]\n",
            "Đa thức phần AR: 1.0 - 0.06·x¹\n",
            "Nghiệm của đa thức phần AR [16.66666667]\n",
            "Chuyển ARMA thành MA:\n",
            " [1.0000000e+00 1.3000000e-01 7.8000000e-03 4.6800000e-04 2.8080000e-05\n",
            " 1.6848000e-06 1.0108800e-07 6.0652800e-09 3.6391680e-10 2.1835008e-11]\n",
            "Chuyển ARMA thành AR:\n",
            " [ 1.0000000e+00 -1.3000000e-01  9.1000000e-03 -6.3700000e-04\n",
            "  4.4590000e-05 -3.1213000e-06  2.1849100e-07 -1.5294370e-08\n",
            "  1.0706059e-09 -7.4942413e-11]\n"
          ]
        }
      ],
      "source": [
        "# ARMA(1, 1)\n",
        "ar_a = np.array([0.06])\n",
        "ma_a = np.array([0.07])\n",
        "ARMA_a = ArmaProcess.from_coeffs(ar_a, ma_a)\n",
        "\n",
        "print('Tính khả nghịch:', ARMA_a.isinvertible)\n",
        "print('Tính dừng của chuỗi thời gian:', ARMA_a.isstationary)\n",
        "print('Đa thức phần MA:', ARMA_a.mapoly)\n",
        "print('Nghiệm của đa thức phần MA', ARMA_a.maroots)\n",
        "print('Đa thức phần AR:', ARMA_a.arpoly)\n",
        "print('Nghiệm của đa thức phần AR', ARMA_a.arroots)\n",
        "print('Chuyển ARMA thành MA:\\n', ARMA_a.arma2ma(10))\n",
        "print('Chuyển ARMA thành AR:\\n', ARMA_a.arma2ar(10))"
      ]
    },
    {
      "cell_type": "code",
      "source": [
        "# ARMA(2, 2)\n",
        "\n",
        "ar_b = np.array([0.06, 0.07])\n",
        "ma_b = np.array([0.07, 0.06])\n",
        "ARMA_b = ArmaProcess.from_coeffs(ar_b, ma_b)\n",
        "\n",
        "print('Tính khả nghịch:', ARMA_b.isinvertible)\n",
        "print('Tính dừng của chuỗi thời gian:', ARMA_b.isstationary)\n",
        "print('Đa thức phần MA:', ARMA_b.mapoly)\n",
        "print('Nghiệm của đa thức phần MA', ARMA_b.maroots)\n",
        "print('Đa thức phần AR:', ARMA_b.arpoly)\n",
        "print('Nghiệm của đa thức phần AR', ARMA_b.arroots)\n",
        "print('Chuyển ARMA thành MA:\\n', ARMA_b.arma2ma(10))\n",
        "print('Chuyển ARMA thành AR:\\n', ARMA_b.arma2ar(10))"
      ],
      "metadata": {
        "colab": {
          "base_uri": "https://localhost:8080/"
        },
        "id": "dVS1bzNm7gNx",
        "outputId": "8835c8bc-680f-4b6c-8d35-aad4b817a4e6"
      },
      "execution_count": 8,
      "outputs": [
        {
          "output_type": "stream",
          "name": "stdout",
          "text": [
            "Tính khả nghịch: True\n",
            "Tính dừng của chuỗi thời gian: True\n",
            "Đa thức phần MA: 1.0 + 0.07·x¹ + 0.06·x²\n",
            "Nghiệm của đa thức phần MA [-0.58333333-4.04059264j -0.58333333+4.04059264j]\n",
            "Đa thức phần AR: 1.0 - 0.06·x¹ - 0.07·x²\n",
            "Nghiệm của đa thức phần AR [-4.23243627  3.37529342]\n",
            "Chuyển ARMA thành MA:\n",
            " [1.00000000e+00 1.30000000e-01 1.37800000e-01 1.73680000e-02\n",
            " 1.06880800e-02 1.85704480e-03 8.59588288e-04 1.81568433e-04\n",
            " 7.10652862e-05 1.69737075e-05]\n",
            "Chuyển ARMA thành AR:\n",
            " [ 1.00000000e+00 -1.30000000e-01 -1.20900000e-01  1.62630000e-02\n",
            "  6.11559000e-03 -1.40387130e-03 -2.68664409e-04  1.03038787e-04\n",
            "  8.90714948e-06 -6.80582766e-06]\n"
          ]
        }
      ]
    },
    {
      "cell_type": "code",
      "source": [],
      "metadata": {
        "id": "Y3_-vjJF75hY"
      },
      "execution_count": null,
      "outputs": []
    }
  ],
  "metadata": {
    "colab": {
      "provenance": []
    },
    "kernelspec": {
      "display_name": "Python 3 (ipykernel)",
      "language": "python",
      "name": "python3"
    },
    "language_info": {
      "codemirror_mode": {
        "name": "ipython",
        "version": 3
      },
      "file_extension": ".py",
      "mimetype": "text/x-python",
      "name": "python",
      "nbconvert_exporter": "python",
      "pygments_lexer": "ipython3",
      "version": "3.9.13"
    }
  },
  "nbformat": 4,
  "nbformat_minor": 0
}