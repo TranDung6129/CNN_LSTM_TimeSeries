{
  "nbformat": 4,
  "nbformat_minor": 0,
  "metadata": {
    "colab": {
      "provenance": []
    },
    "kernelspec": {
      "name": "python3",
      "display_name": "Python 3"
    },
    "language_info": {
      "name": "python"
    }
  },
  "cells": [
    {
      "cell_type": "code",
      "execution_count": 40,
      "metadata": {
        "id": "n2sROWQ2j1DU"
      },
      "outputs": [],
      "source": [
        "import numpy as np"
      ]
    },
    {
      "cell_type": "code",
      "source": [
        "def durbin_levinson(autocovariance, nlags):\n",
        "    \"\"\"\n",
        "    Estimates the coefficients of an time series model using the Durbin-Levinson algorithm.\n",
        "\n",
        "    Args:\n",
        "        - autocovariance: array-like\n",
        "        1D array containing the autocovariance values at lags 0 to `nlags`.\n",
        "\n",
        "        - nlags: int\n",
        "        Number of lags to consider for the AR model.\n",
        "\n",
        "    Returns:\n",
        "        - coefficients: array-like\n",
        "        - 1D array of estimated AR coefficients of order `nlags`.\n",
        "\n",
        "    \"\"\"\n",
        "    # Extract array lengths\n",
        "    n_terms = len(autocovariance)\n",
        "\n",
        "    # Initialize memory variables\n",
        "    coefficients = np.zeros(n_terms)  # Stores final coefficients (phi_nn)\n",
        "    forward_errors = np.zeros(n_terms)  # Stores forward prediction errors (v_n)\n",
        "    reflection_coefficients = np.zeros(n_terms)  # Stores reflection coefficients\n",
        "\n",
        "    # Initial values\n",
        "    coefficients[0] = 1.0\n",
        "    forward_errors[0] = autocovariance[0]\n",
        "\n",
        "    # Iterate through lags\n",
        "    for i in range(1, nlags + 1):\n",
        "        # Calculate reflection coefficient\n",
        "        reflection_coefficients[i] = (autocovariance[i] - np.dot(coefficients[1:i], autocovariance[i-1:0:-1])) / forward_errors[i-1]\n",
        "\n",
        "        # Update model coefficients\n",
        "        coefficients[i] = reflection_coefficients[i]\n",
        "        coefficients[1:i] -= reflection_coefficients[i] * coefficients[i-1:0:-1]\n",
        "\n",
        "        # Update forward prediction error\n",
        "        forward_errors[i] = forward_errors[i-1] * (1.0 - reflection_coefficients[i]**2)\n",
        "\n",
        "    return coefficients[:nlags + 1]  # Return estimated AR coefficients of order `nlags`\n"
      ],
      "metadata": {
        "id": "KRGvmP81kFxD"
      },
      "execution_count": 34,
      "outputs": []
    },
    {
      "cell_type": "code",
      "source": [
        "print(f\"Model parameter for prediction: {durbin_levinson([1.81, -0.9, 0, 0, 0], 4)[1:]}\")"
      ],
      "metadata": {
        "colab": {
          "base_uri": "https://localhost:8080/"
        },
        "id": "rCN9UbLTkOCv",
        "outputId": "78f910c4-162f-46d1-d630-bb573deef83a"
      },
      "execution_count": 39,
      "outputs": [
        {
          "output_type": "stream",
          "name": "stdout",
          "text": [
            "Model parameter for prediction: [-0.78698379 -0.58271185 -0.38491448 -0.19139394]\n"
          ]
        }
      ]
    },
    {
      "cell_type": "markdown",
      "source": [
        "# Test the result"
      ],
      "metadata": {
        "id": "iTUU32xA5db1"
      }
    },
    {
      "cell_type": "code",
      "source": [
        "import statsmodels\n",
        "from statsmodels.tsa.stattools import levinson_durbin\n",
        "\n",
        "sigma_v, arcoefs, pacf, sigma, phi = statsmodels.tsa.stattools.levinson_durbin(np.array([1.81, -0.9, 0, 0, 0]), nlags=4, isacov=True)"
      ],
      "metadata": {
        "id": "wQbXh9yckU4V"
      },
      "execution_count": 22,
      "outputs": []
    },
    {
      "cell_type": "markdown",
      "source": [
        "## The partial autocorrelation function."
      ],
      "metadata": {
        "id": "Hspk9fpr5f4z"
      }
    },
    {
      "cell_type": "code",
      "source": [
        "pacf"
      ],
      "metadata": {
        "colab": {
          "base_uri": "https://localhost:8080/"
        },
        "id": "PlWQNda-40jy",
        "outputId": "b35952ea-80e4-4e16-9662-a6f685a3ccf7"
      },
      "execution_count": 15,
      "outputs": [
        {
          "output_type": "execute_result",
          "data": {
            "text/plain": [
              "array([ 1.        , -0.49723757, -0.32845383, -0.24319934, -0.19139394])"
            ]
          },
          "metadata": {},
          "execution_count": 15
        }
      ]
    },
    {
      "cell_type": "markdown",
      "source": [
        "## The estimate of the error variance."
      ],
      "metadata": {
        "id": "wI9GWsqJ5it2"
      }
    },
    {
      "cell_type": "code",
      "source": [
        "sigma_v"
      ],
      "metadata": {
        "colab": {
          "base_uri": "https://localhost:8080/"
        },
        "id": "QwCAczae4871",
        "outputId": "5e9e3bf8-880f-47e6-fade-97a5273d6d5c"
      },
      "execution_count": 16,
      "outputs": [
        {
          "output_type": "execute_result",
          "data": {
            "text/plain": [
              "1.1017145872296494"
            ]
          },
          "metadata": {},
          "execution_count": 16
        }
      ]
    },
    {
      "cell_type": "markdown",
      "source": [
        "## The estimate of the autoregressive coefficients for a model including nlags."
      ],
      "metadata": {
        "id": "A3oHLqyC5lZC"
      }
    },
    {
      "cell_type": "code",
      "source": [
        "arcoefs"
      ],
      "metadata": {
        "colab": {
          "base_uri": "https://localhost:8080/"
        },
        "id": "6o3XWEuw5Ck8",
        "outputId": "a29d18fc-99ea-4019-daab-33cc7e497549"
      },
      "execution_count": 23,
      "outputs": [
        {
          "output_type": "execute_result",
          "data": {
            "text/plain": [
              "array([-0.74043691, -0.4891009 , -0.24319934])"
            ]
          },
          "metadata": {},
          "execution_count": 23
        }
      ]
    },
    {
      "cell_type": "markdown",
      "source": [
        "## The entire sigma array from intermediate result, last value is sigma_v."
      ],
      "metadata": {
        "id": "P7fxAEmT5lri"
      }
    },
    {
      "cell_type": "code",
      "source": [
        "sigma"
      ],
      "metadata": {
        "colab": {
          "base_uri": "https://localhost:8080/"
        },
        "id": "mVMxCzKW5IFk",
        "outputId": "c77385d7-570b-4542-a3c5-1ea2d73d02b6"
      },
      "execution_count": 18,
      "outputs": [
        {
          "output_type": "execute_result",
          "data": {
            "text/plain": [
              "array([0.        , 1.36248619, 1.21549856, 1.14360678, 1.10171459])"
            ]
          },
          "metadata": {},
          "execution_count": 18
        }
      ]
    },
    {
      "cell_type": "markdown",
      "source": [
        "## The entire phi array from intermediate result, last column contains autoregressive coefficients for AR(nlags)."
      ],
      "metadata": {
        "id": "NqhpSUwV5mDO"
      }
    },
    {
      "cell_type": "code",
      "source": [
        "phi.T"
      ],
      "metadata": {
        "colab": {
          "base_uri": "https://localhost:8080/"
        },
        "id": "RY90h-7e5OwE",
        "outputId": "e02eb58a-602b-4ec4-b3d8-90b971fa9bbb"
      },
      "execution_count": 21,
      "outputs": [
        {
          "output_type": "execute_result",
          "data": {
            "text/plain": [
              "array([[ 0.        ,  0.        ,  0.        ,  0.        ,  0.        ],\n",
              "       [ 0.        , -0.49723757,  0.        ,  0.        ,  0.        ],\n",
              "       [ 0.        , -0.66055716, -0.32845383,  0.        ,  0.        ],\n",
              "       [ 0.        , -0.74043691, -0.4891009 , -0.24319934,  0.        ],\n",
              "       [ 0.        , -0.78698379, -0.58271185, -0.38491448, -0.19139394]])"
            ]
          },
          "metadata": {},
          "execution_count": 21
        }
      ]
    },
    {
      "cell_type": "code",
      "source": [],
      "metadata": {
        "id": "fz6hiY185Ts8"
      },
      "execution_count": null,
      "outputs": []
    }
  ]
}